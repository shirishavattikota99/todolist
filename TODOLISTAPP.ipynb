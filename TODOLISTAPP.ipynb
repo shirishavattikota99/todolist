{
 "cells": [
  {
   "cell_type": "code",
   "execution_count": 5,
   "id": "2f20363a-db04-4eff-88e7-83dfa2550e62",
   "metadata": {},
   "outputs": [],
   "source": [
    "import sqlite3\n",
    "\n",
    "# Connect to SQLite database (or create it if it doesn't exist)\n",
    "conn = sqlite3.connect('todo_list.db')\n",
    "c = conn.cursor()\n",
    "\n",
    "# Create tasks table\n",
    "c.execute('''CREATE TABLE IF NOT EXISTS tasks\n",
    "             (id INTEGER PRIMARY KEY,\n",
    "              task TEXT,\n",
    "              priority INTEGER,\n",
    "              due_date TEXT,\n",
    "              category TEXT,\n",
    "              completed BOOLEAN)''')\n",
    "\n",
    "# Commit the changes and close the connection\n",
    "conn.commit()\n"
   ]
  },
  {
   "cell_type": "code",
   "execution_count": 6,
   "id": "2404f349-a634-4b94-b0c0-c63094633037",
   "metadata": {},
   "outputs": [],
   "source": [
    "def add_task(task, priority, due_date, category):\n",
    "    conn = sqlite3.connect('todo_list.db')\n",
    "    c = conn.cursor()\n",
    "    c.execute(\"INSERT INTO tasks (task, priority, due_date, category, completed) VALUES (?, ?, ?, ?, ?)\",\n",
    "              (task, priority, due_date, category, False))\n",
    "    conn.commit()\n",
    "    conn.close()\n",
    "\n",
    "# Function to delete a task\n",
    "def delete_task(task_id):\n",
    "    conn = sqlite3.connect('todo_list.db')\n",
    "    c = conn.cursor()\n",
    "    c.execute(\"DELETE FROM tasks WHERE id=?\", (task_id,))\n",
    "    conn.commit()\n",
    "    conn.close()\n",
    "\n",
    "# Function to update a task\n",
    "def update_task(task_id, task, priority, due_date, category, completed):\n",
    "    conn = sqlite3.connect('todo_list.db')\n",
    "    c = conn.cursor()\n",
    "    c.execute(\"UPDATE tasks SET task=?, priority=?, due_date=?, category=?, completed=? WHERE id=?\",\n",
    "              (task, priority, due_date, category, completed, task_id))\n",
    "    conn.commit()\n",
    "    conn.close()\n",
    "\n",
    "# Function to view all tasks\n",
    "def view_tasks():\n",
    "    conn = sqlite3.connect('todo_list.db')\n",
    "    c = conn.cursor()\n",
    "    c.execute(\"SELECT * FROM tasks\")\n",
    "    tasks = c.fetchall()\n",
    "    conn.close()\n",
    "    return tasks"
   ]
  },
  {
   "cell_type": "code",
   "execution_count": 7,
   "id": "4c157124-f73e-41a8-8e0c-c7bdfbef6c9d",
   "metadata": {},
   "outputs": [
    {
     "name": "stdout",
     "output_type": "stream",
     "text": [
      "\n",
      "To-Do List Application\n",
      "1. Add a task\n",
      "2. Delete a task\n",
      "3. Update a task\n",
      "4. View tasks\n",
      "5. Exit\n"
     ]
    },
    {
     "name": "stdin",
     "output_type": "stream",
     "text": [
      "Enter your choice:  4\n"
     ]
    },
    {
     "name": "stdout",
     "output_type": "stream",
     "text": [
      "(1, 'drink water', 1, '2024/06/12', 'personal', 0)\n",
      "\n",
      "To-Do List Application\n",
      "1. Add a task\n",
      "2. Delete a task\n",
      "3. Update a task\n",
      "4. View tasks\n",
      "5. Exit\n"
     ]
    },
    {
     "name": "stdin",
     "output_type": "stream",
     "text": [
      "Enter your choice:  1\n",
      "Enter task:  reading book\n",
      "Enter priority (1-5):  3\n",
      "Enter due date (YYYY-MM-DD):  2024/06/12\n",
      "Enter category:  work\n"
     ]
    },
    {
     "name": "stdout",
     "output_type": "stream",
     "text": [
      "Task added successfully!\n",
      "\n",
      "To-Do List Application\n",
      "1. Add a task\n",
      "2. Delete a task\n",
      "3. Update a task\n",
      "4. View tasks\n",
      "5. Exit\n"
     ]
    },
    {
     "name": "stdin",
     "output_type": "stream",
     "text": [
      "Enter your choice:  4\n"
     ]
    },
    {
     "name": "stdout",
     "output_type": "stream",
     "text": [
      "(1, 'drink water', 1, '2024/06/12', 'personal', 0)\n",
      "(2, 'reading book', 3, '2024/06/12', 'work', 0)\n",
      "\n",
      "To-Do List Application\n",
      "1. Add a task\n",
      "2. Delete a task\n",
      "3. Update a task\n",
      "4. View tasks\n",
      "5. Exit\n"
     ]
    },
    {
     "name": "stdin",
     "output_type": "stream",
     "text": [
      "Enter your choice:  1\n",
      "Enter task:  eating\n",
      "Enter priority (1-5):  2\n",
      "Enter due date (YYYY-MM-DD):  2024/06/12\n",
      "Enter category:  personal\n"
     ]
    },
    {
     "name": "stdout",
     "output_type": "stream",
     "text": [
      "Task added successfully!\n",
      "\n",
      "To-Do List Application\n",
      "1. Add a task\n",
      "2. Delete a task\n",
      "3. Update a task\n",
      "4. View tasks\n",
      "5. Exit\n"
     ]
    },
    {
     "name": "stdin",
     "output_type": "stream",
     "text": [
      "Enter your choice:  4\n"
     ]
    },
    {
     "name": "stdout",
     "output_type": "stream",
     "text": [
      "(1, 'drink water', 1, '2024/06/12', 'personal', 0)\n",
      "(2, 'reading book', 3, '2024/06/12', 'work', 0)\n",
      "(3, 'eating', 2, '2024/06/12', 'personal', 0)\n",
      "\n",
      "To-Do List Application\n",
      "1. Add a task\n",
      "2. Delete a task\n",
      "3. Update a task\n",
      "4. View tasks\n",
      "5. Exit\n"
     ]
    },
    {
     "name": "stdin",
     "output_type": "stream",
     "text": [
      "Enter your choice:  3\n",
      "Enter task ID to update:  2\n",
      "Enter updated task:  reading story book\n",
      "Enter updated priority (1-5):  3\n",
      "Enter updated due date (YYYY-MM-DD):  2024/06/13\n",
      "Enter updated category:  personal\n",
      "Is the task completed? (yes/no):  no\n"
     ]
    },
    {
     "name": "stdout",
     "output_type": "stream",
     "text": [
      "Task updated successfully!\n",
      "\n",
      "To-Do List Application\n",
      "1. Add a task\n",
      "2. Delete a task\n",
      "3. Update a task\n",
      "4. View tasks\n",
      "5. Exit\n"
     ]
    },
    {
     "name": "stdin",
     "output_type": "stream",
     "text": [
      "Enter your choice:  4\n"
     ]
    },
    {
     "name": "stdout",
     "output_type": "stream",
     "text": [
      "(1, 'drink water', 1, '2024/06/12', 'personal', 0)\n",
      "(2, 'reading story book', 3, '2024/06/13', 'personal', 0)\n",
      "(3, 'eating', 2, '2024/06/12', 'personal', 0)\n",
      "\n",
      "To-Do List Application\n",
      "1. Add a task\n",
      "2. Delete a task\n",
      "3. Update a task\n",
      "4. View tasks\n",
      "5. Exit\n"
     ]
    },
    {
     "name": "stdin",
     "output_type": "stream",
     "text": [
      "Enter your choice:  2\n",
      "Enter task ID to delete:  1\n"
     ]
    },
    {
     "name": "stdout",
     "output_type": "stream",
     "text": [
      "Task deleted successfully!\n",
      "\n",
      "To-Do List Application\n",
      "1. Add a task\n",
      "2. Delete a task\n",
      "3. Update a task\n",
      "4. View tasks\n",
      "5. Exit\n"
     ]
    },
    {
     "name": "stdin",
     "output_type": "stream",
     "text": [
      "Enter your choice:  4\n"
     ]
    },
    {
     "name": "stdout",
     "output_type": "stream",
     "text": [
      "(2, 'reading story book', 3, '2024/06/13', 'personal', 0)\n",
      "(3, 'eating', 2, '2024/06/12', 'personal', 0)\n",
      "\n",
      "To-Do List Application\n",
      "1. Add a task\n",
      "2. Delete a task\n",
      "3. Update a task\n",
      "4. View tasks\n",
      "5. Exit\n"
     ]
    },
    {
     "name": "stdin",
     "output_type": "stream",
     "text": [
      "Enter your choice:  5\n"
     ]
    },
    {
     "name": "stdout",
     "output_type": "stream",
     "text": [
      "Exiting application.\n"
     ]
    }
   ],
   "source": [
    "def main():\n",
    "    while True:\n",
    "        print(\"\\nTo-Do List Application\")\n",
    "        print(\"1. Add a task\")\n",
    "        print(\"2. Delete a task\")\n",
    "        print(\"3. Update a task\")\n",
    "        print(\"4. View tasks\")\n",
    "        print(\"5. Exit\")\n",
    "       \n",
    "        choice = input(\"Enter your choice: \")\n",
    "       \n",
    "        if choice == '1':\n",
    "            task = input(\"Enter task: \")\n",
    "            priority = int(input(\"Enter priority (1-5): \"))\n",
    "            due_date = input(\"Enter due date (YYYY-MM-DD): \")\n",
    "            category = input(\"Enter category: \")\n",
    "            add_task(task, priority, due_date, category)\n",
    "            print(\"Task added successfully!\")\n",
    "       \n",
    "        elif choice == '2':\n",
    "            task_id = int(input(\"Enter task ID to delete: \"))\n",
    "            delete_task(task_id)\n",
    "            print(\"Task deleted successfully!\")\n",
    "       \n",
    "        elif choice == '3':\n",
    "            task_id = int(input(\"Enter task ID to update: \"))\n",
    "            task = input(\"Enter updated task: \")\n",
    "            priority = int(input(\"Enter updated priority (1-5): \"))\n",
    "            due_date = input(\"Enter updated due date (YYYY-MM-DD): \")\n",
    "            category = input(\"Enter updated category: \")\n",
    "            completed = input(\"Is the task completed? (yes/no): \").lower() == 'yes'\n",
    "            update_task(task_id, task, priority, due_date, category, completed)\n",
    "            print(\"Task updated successfully!\")\n",
    "       \n",
    "        elif choice == '4':\n",
    "            tasks = view_tasks()\n",
    "            for task in tasks:\n",
    "                print(task)\n",
    "       \n",
    "        elif choice == '5':\n",
    "            print(\"Exiting application.\")\n",
    "            break\n",
    "       \n",
    "        else:\n",
    "            print(\"Invalid choice! Please try again.\")\n",
    "\n",
    "if __name__ == \"__main__\":\n",
    "    main()"
   ]
  },
  {
   "cell_type": "code",
   "execution_count": 8,
   "id": "a1626cd6-7e58-4f16-99a1-e2a950da6f8a",
   "metadata": {},
   "outputs": [],
   "source": [
    "def filter_tasks_by_category(category):\n",
    "    conn = sqlite3.connect('todo_list.db')\n",
    "    c = conn.cursor()\n",
    "    c.execute(\"SELECT * FROM tasks WHERE category=?\", (category,))\n",
    "    tasks = c.fetchall()\n",
    "    conn.close()\n",
    "    return tasks\n",
    "\n",
    "# Function to filter tasks by due date\n",
    "def filter_tasks_by_due_date(due_date):\n",
    "    conn = sqlite3.connect('todo_list.db')\n",
    "    c = conn.cursor()\n",
    "    c.execute(\"SELECT * FROM tasks WHERE due_date=?\", (due_date,))\n",
    "    tasks = c.fetchall()\n",
    "    conn.close()\n",
    "    return tasks"
   ]
  },
  {
   "cell_type": "code",
   "execution_count": 9,
   "id": "ed50bcf7-ade5-4a7c-beb6-1ede9ce7f85c",
   "metadata": {},
   "outputs": [
    {
     "name": "stdout",
     "output_type": "stream",
     "text": [
      "the personal tasks in to do list are:\n",
      "(2, 'reading story book', 3, '2024/06/13', 'personal', 0)\n",
      "(3, 'eating', 2, '2024/06/12', 'personal', 0)\n"
     ]
    }
   ],
   "source": [
    "add_task(\"complete project\",4,\"2024/06/13\",\"work\")\n",
    "p=filter_tasks_by_category(\"personal\")\n",
    "print(\"the personal tasks in to do list are:\")\n",
    "for t in p:\n",
    "    print(t)"
   ]
  },
  {
   "cell_type": "code",
   "execution_count": 10,
   "id": "69d49f5c-4727-41ef-bb65-e1818f634fdd",
   "metadata": {},
   "outputs": [
    {
     "name": "stdout",
     "output_type": "stream",
     "text": [
      "ACCORDING TO THE DATE:\n",
      "(3, 'eating', 2, '2024/06/12', 'personal', 0)\n"
     ]
    }
   ],
   "source": [
    "d=filter_tasks_by_due_date(\"2024/06/12\")\n",
    "print(\"ACCORDING TO THE DATE:\")\n",
    "for t in d:\n",
    "    print(t)"
   ]
  },
  {
   "cell_type": "code",
   "execution_count": 11,
   "id": "5034985e-f7ff-4271-b26b-a2c62915ad34",
   "metadata": {},
   "outputs": [
    {
     "name": "stdout",
     "output_type": "stream",
     "text": [
      "\n",
      "To-Do List Application\n",
      "1. Add a task\n",
      "2. Delete a task\n",
      "3. Update a task\n",
      "4. View tasks\n",
      "5. Exit\n"
     ]
    },
    {
     "name": "stdin",
     "output_type": "stream",
     "text": [
      "Enter your choice:  4\n"
     ]
    },
    {
     "name": "stdout",
     "output_type": "stream",
     "text": [
      "(2, 'reading story book', 3, '2024/06/13', 'personal', 0)\n",
      "(3, 'eating', 2, '2024/06/12', 'personal', 0)\n",
      "(4, 'complete project', 4, '2024/06/13', 'work', 0)\n",
      "\n",
      "To-Do List Application\n",
      "1. Add a task\n",
      "2. Delete a task\n",
      "3. Update a task\n",
      "4. View tasks\n",
      "5. Exit\n"
     ]
    },
    {
     "name": "stdin",
     "output_type": "stream",
     "text": [
      "Enter your choice:  5\n"
     ]
    },
    {
     "name": "stdout",
     "output_type": "stream",
     "text": [
      "Exiting application.\n"
     ]
    }
   ],
   "source": [
    "if __name__ == \"__main__\":\n",
    "    main()"
   ]
  },
  {
   "cell_type": "code",
   "execution_count": null,
   "id": "ede0df4f-bbe5-405f-a94f-f564c975f489",
   "metadata": {},
   "outputs": [],
   "source": []
  }
 ],
 "metadata": {
  "kernelspec": {
   "display_name": "Python 3 (ipykernel)",
   "language": "python",
   "name": "python3"
  },
  "language_info": {
   "codemirror_mode": {
    "name": "ipython",
    "version": 3
   },
   "file_extension": ".py",
   "mimetype": "text/x-python",
   "name": "python",
   "nbconvert_exporter": "python",
   "pygments_lexer": "ipython3",
   "version": "3.11.7"
  }
 },
 "nbformat": 4,
 "nbformat_minor": 5
}
